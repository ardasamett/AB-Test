{
 "cells": [
  {
   "cell_type": "markdown",
   "id": "4ce54e2b-72d2-4bc5-bfbb-c1c626aa0734",
   "metadata": {},
   "source": [
    "<div align=\"center\">\n",
    "\n",
    "# Bidding Type A/B Testing\n",
    "</div>\n",
    "<hr>\n",
    "\n",
    "Facebook introduced a new bidding type, “average bidding”, as an alternative to its exisiting bidding type, called “maximum bidding”. We want to conduct an A/B test to understand if average bidding brings more conversions than maximum bidding.\n",
    "\n",
    "In this A/B test, bombabomba.com randomly splits its audience into two equally sized groups, e.g. the test and the control group. A Facebook ad campaign with “maximum bidding” is served to “control group” and another campaign with “average bidding” is served to the “test group”.\n",
    "\n",
    "The ultimate success metric is Number of Purchases. Therefore, we should focus on **Purchase** metrics for statistical testing."
   ]
  },
  {
   "cell_type": "markdown",
   "id": "50627f92-bea9-4cb5-a2c2-80541f90e1e0",
   "metadata": {},
   "source": [
    "<br> \n",
    "\n",
    "### Import"
   ]
  },
  {
   "cell_type": "code",
   "execution_count": 66,
   "id": "20748e96-d8f5-4e06-8695-108f6a890ffd",
   "metadata": {},
   "outputs": [],
   "source": [
    "import pandas as pd\n",
    "import numpy as np\n",
    "import seaborn as sns\n",
    "import matplotlib.pyplot as plt\n",
    "import statsmodels.stats.api as sms\n",
    "from scipy.stats import shapiro, levene, ttest_ind"
   ]
  },
  {
   "cell_type": "markdown",
   "id": "1bb5d72a-5b4c-4e5a-a21c-aad9f7c19ffa",
   "metadata": {},
   "source": [
    "<hr>\n",
    "\n",
    "### Read data & manipulation"
   ]
  },
  {
   "cell_type": "code",
   "execution_count": 11,
   "id": "0fde4262-5dad-4e10-a362-20aace63cad8",
   "metadata": {},
   "outputs": [],
   "source": [
    "controlGroupDf_ = pd.read_excel(\"ab_testing.xlsx\",sheet_name=\"Control Group\")\n",
    "testGroupDf_ = pd.read_excel(\"ab_testing.xlsx\",sheet_name=\"Test Group\")\n",
    "\n",
    "controlGroup = controlGroupDf_.copy()\n",
    "testGroupDf = testGroupDf_.copy()"
   ]
  },
  {
   "cell_type": "code",
   "execution_count": 26,
   "id": "b3e08a28-df68-4d8c-befb-88babbb92c2c",
   "metadata": {},
   "outputs": [],
   "source": [
    "df = pd.concat([controlGroup.add_suffix(\"_control\"), testGroupDf.add_suffix(\"_test\")],axis=1)"
   ]
  },
  {
   "cell_type": "markdown",
   "id": "79948939-2eef-41df-a1c9-e028b7712478",
   "metadata": {},
   "source": [
    "<hr>\n",
    "\n",
    "### Understand data"
   ]
  },
  {
   "cell_type": "code",
   "execution_count": 27,
   "id": "9a218ee4-c832-4e69-9757-cb714ba9ac49",
   "metadata": {},
   "outputs": [
    {
     "data": {
      "text/html": [
       "<div>\n",
       "<style scoped>\n",
       "    .dataframe tbody tr th:only-of-type {\n",
       "        vertical-align: middle;\n",
       "    }\n",
       "\n",
       "    .dataframe tbody tr th {\n",
       "        vertical-align: top;\n",
       "    }\n",
       "\n",
       "    .dataframe thead th {\n",
       "        text-align: right;\n",
       "    }\n",
       "</style>\n",
       "<table border=\"1\" class=\"dataframe\">\n",
       "  <thead>\n",
       "    <tr style=\"text-align: right;\">\n",
       "      <th></th>\n",
       "      <th>Impression_control</th>\n",
       "      <th>Click_control</th>\n",
       "      <th>Purchase_control</th>\n",
       "      <th>Earning_control</th>\n",
       "      <th>Impression_test</th>\n",
       "      <th>Click_test</th>\n",
       "      <th>Purchase_test</th>\n",
       "      <th>Earning_test</th>\n",
       "    </tr>\n",
       "  </thead>\n",
       "  <tbody>\n",
       "    <tr>\n",
       "      <th>0</th>\n",
       "      <td>82529.459271</td>\n",
       "      <td>6090.077317</td>\n",
       "      <td>665.211255</td>\n",
       "      <td>2311.277143</td>\n",
       "      <td>120103.503796</td>\n",
       "      <td>3216.547958</td>\n",
       "      <td>702.160346</td>\n",
       "      <td>1939.611243</td>\n",
       "    </tr>\n",
       "    <tr>\n",
       "      <th>1</th>\n",
       "      <td>98050.451926</td>\n",
       "      <td>3382.861786</td>\n",
       "      <td>315.084895</td>\n",
       "      <td>1742.806855</td>\n",
       "      <td>134775.943363</td>\n",
       "      <td>3635.082422</td>\n",
       "      <td>834.054286</td>\n",
       "      <td>2929.405820</td>\n",
       "    </tr>\n",
       "    <tr>\n",
       "      <th>2</th>\n",
       "      <td>82696.023549</td>\n",
       "      <td>4167.965750</td>\n",
       "      <td>458.083738</td>\n",
       "      <td>1797.827447</td>\n",
       "      <td>107806.620788</td>\n",
       "      <td>3057.143560</td>\n",
       "      <td>422.934258</td>\n",
       "      <td>2526.244877</td>\n",
       "    </tr>\n",
       "    <tr>\n",
       "      <th>3</th>\n",
       "      <td>109914.400398</td>\n",
       "      <td>4910.882240</td>\n",
       "      <td>487.090773</td>\n",
       "      <td>1696.229178</td>\n",
       "      <td>116445.275526</td>\n",
       "      <td>4650.473911</td>\n",
       "      <td>429.033535</td>\n",
       "      <td>2281.428574</td>\n",
       "    </tr>\n",
       "    <tr>\n",
       "      <th>4</th>\n",
       "      <td>108457.762630</td>\n",
       "      <td>5987.655811</td>\n",
       "      <td>441.034050</td>\n",
       "      <td>1543.720179</td>\n",
       "      <td>145082.516838</td>\n",
       "      <td>5201.387724</td>\n",
       "      <td>749.860442</td>\n",
       "      <td>2781.697521</td>\n",
       "    </tr>\n",
       "  </tbody>\n",
       "</table>\n",
       "</div>"
      ],
      "text/plain": [
       "   Impression_control  Click_control  Purchase_control  Earning_control  \\\n",
       "0        82529.459271    6090.077317        665.211255      2311.277143   \n",
       "1        98050.451926    3382.861786        315.084895      1742.806855   \n",
       "2        82696.023549    4167.965750        458.083738      1797.827447   \n",
       "3       109914.400398    4910.882240        487.090773      1696.229178   \n",
       "4       108457.762630    5987.655811        441.034050      1543.720179   \n",
       "\n",
       "   Impression_test   Click_test  Purchase_test  Earning_test  \n",
       "0    120103.503796  3216.547958     702.160346   1939.611243  \n",
       "1    134775.943363  3635.082422     834.054286   2929.405820  \n",
       "2    107806.620788  3057.143560     422.934258   2526.244877  \n",
       "3    116445.275526  4650.473911     429.033535   2281.428574  \n",
       "4    145082.516838  5201.387724     749.860442   2781.697521  "
      ]
     },
     "execution_count": 27,
     "metadata": {},
     "output_type": "execute_result"
    }
   ],
   "source": [
    "df.head()"
   ]
  },
  {
   "cell_type": "code",
   "execution_count": 28,
   "id": "329a69d9-949d-4465-8641-db7008aa337d",
   "metadata": {},
   "outputs": [
    {
     "data": {
      "text/html": [
       "<div>\n",
       "<style scoped>\n",
       "    .dataframe tbody tr th:only-of-type {\n",
       "        vertical-align: middle;\n",
       "    }\n",
       "\n",
       "    .dataframe tbody tr th {\n",
       "        vertical-align: top;\n",
       "    }\n",
       "\n",
       "    .dataframe thead th {\n",
       "        text-align: right;\n",
       "    }\n",
       "</style>\n",
       "<table border=\"1\" class=\"dataframe\">\n",
       "  <thead>\n",
       "    <tr style=\"text-align: right;\">\n",
       "      <th></th>\n",
       "      <th>count</th>\n",
       "      <th>mean</th>\n",
       "      <th>std</th>\n",
       "      <th>min</th>\n",
       "      <th>25%</th>\n",
       "      <th>50%</th>\n",
       "      <th>75%</th>\n",
       "      <th>max</th>\n",
       "    </tr>\n",
       "  </thead>\n",
       "  <tbody>\n",
       "    <tr>\n",
       "      <th>Impression_control</th>\n",
       "      <td>40.0</td>\n",
       "      <td>101711.449068</td>\n",
       "      <td>20302.157862</td>\n",
       "      <td>45475.942965</td>\n",
       "      <td>85726.690349</td>\n",
       "      <td>99790.701078</td>\n",
       "      <td>115212.816543</td>\n",
       "      <td>147539.336329</td>\n",
       "    </tr>\n",
       "    <tr>\n",
       "      <th>Click_control</th>\n",
       "      <td>40.0</td>\n",
       "      <td>5100.657373</td>\n",
       "      <td>1329.985498</td>\n",
       "      <td>2189.753157</td>\n",
       "      <td>4124.304129</td>\n",
       "      <td>5001.220602</td>\n",
       "      <td>5923.803596</td>\n",
       "      <td>7959.125069</td>\n",
       "    </tr>\n",
       "    <tr>\n",
       "      <th>Purchase_control</th>\n",
       "      <td>40.0</td>\n",
       "      <td>550.894059</td>\n",
       "      <td>134.108201</td>\n",
       "      <td>267.028943</td>\n",
       "      <td>470.095533</td>\n",
       "      <td>531.206307</td>\n",
       "      <td>637.957088</td>\n",
       "      <td>801.795020</td>\n",
       "    </tr>\n",
       "    <tr>\n",
       "      <th>Earning_control</th>\n",
       "      <td>40.0</td>\n",
       "      <td>1908.568300</td>\n",
       "      <td>302.917783</td>\n",
       "      <td>1253.989525</td>\n",
       "      <td>1685.847205</td>\n",
       "      <td>1975.160522</td>\n",
       "      <td>2119.802784</td>\n",
       "      <td>2497.295218</td>\n",
       "    </tr>\n",
       "    <tr>\n",
       "      <th>Impression_test</th>\n",
       "      <td>40.0</td>\n",
       "      <td>120512.411758</td>\n",
       "      <td>18807.448712</td>\n",
       "      <td>79033.834921</td>\n",
       "      <td>112691.970770</td>\n",
       "      <td>119291.300775</td>\n",
       "      <td>132050.578933</td>\n",
       "      <td>158605.920483</td>\n",
       "    </tr>\n",
       "    <tr>\n",
       "      <th>Click_test</th>\n",
       "      <td>40.0</td>\n",
       "      <td>3967.549761</td>\n",
       "      <td>923.095073</td>\n",
       "      <td>1836.629861</td>\n",
       "      <td>3376.819024</td>\n",
       "      <td>3931.359804</td>\n",
       "      <td>4660.497911</td>\n",
       "      <td>6019.695079</td>\n",
       "    </tr>\n",
       "    <tr>\n",
       "      <th>Purchase_test</th>\n",
       "      <td>40.0</td>\n",
       "      <td>582.106097</td>\n",
       "      <td>161.152513</td>\n",
       "      <td>311.629515</td>\n",
       "      <td>444.626828</td>\n",
       "      <td>551.355732</td>\n",
       "      <td>699.862360</td>\n",
       "      <td>889.910460</td>\n",
       "    </tr>\n",
       "    <tr>\n",
       "      <th>Earning_test</th>\n",
       "      <td>40.0</td>\n",
       "      <td>2514.890733</td>\n",
       "      <td>282.730852</td>\n",
       "      <td>1939.611243</td>\n",
       "      <td>2280.537426</td>\n",
       "      <td>2544.666107</td>\n",
       "      <td>2761.545405</td>\n",
       "      <td>3171.489708</td>\n",
       "    </tr>\n",
       "  </tbody>\n",
       "</table>\n",
       "</div>"
      ],
      "text/plain": [
       "                    count           mean           std           min  \\\n",
       "Impression_control   40.0  101711.449068  20302.157862  45475.942965   \n",
       "Click_control        40.0    5100.657373   1329.985498   2189.753157   \n",
       "Purchase_control     40.0     550.894059    134.108201    267.028943   \n",
       "Earning_control      40.0    1908.568300    302.917783   1253.989525   \n",
       "Impression_test      40.0  120512.411758  18807.448712  79033.834921   \n",
       "Click_test           40.0    3967.549761    923.095073   1836.629861   \n",
       "Purchase_test        40.0     582.106097    161.152513    311.629515   \n",
       "Earning_test         40.0    2514.890733    282.730852   1939.611243   \n",
       "\n",
       "                              25%            50%            75%            max  \n",
       "Impression_control   85726.690349   99790.701078  115212.816543  147539.336329  \n",
       "Click_control         4124.304129    5001.220602    5923.803596    7959.125069  \n",
       "Purchase_control       470.095533     531.206307     637.957088     801.795020  \n",
       "Earning_control       1685.847205    1975.160522    2119.802784    2497.295218  \n",
       "Impression_test     112691.970770  119291.300775  132050.578933  158605.920483  \n",
       "Click_test            3376.819024    3931.359804    4660.497911    6019.695079  \n",
       "Purchase_test          444.626828     551.355732     699.862360     889.910460  \n",
       "Earning_test          2280.537426    2544.666107    2761.545405    3171.489708  "
      ]
     },
     "execution_count": 28,
     "metadata": {},
     "output_type": "execute_result"
    }
   ],
   "source": [
    "df.describe().T"
   ]
  },
  {
   "cell_type": "code",
   "execution_count": 77,
   "id": "24e18abb-e40b-40d7-921b-a3853b377cc9",
   "metadata": {},
   "outputs": [
    {
     "name": "stdout",
     "output_type": "stream",
     "text": [
      "\n",
      "Control Group (Maximum bidding) Funnel\n",
      "Impression: 4068457.962707891\n",
      "Click: 204026.29490309115\n",
      "Purchase: 22035.762350809266\n",
      "\n",
      "Test Group (Average bidding) Funnel\n",
      "Impression: 4820496.47030138\n",
      "Click: 158701.9904322408\n",
      "Purchase: 23284.243865938704\n",
      "\n"
     ]
    }
   ],
   "source": [
    "print(f\"\"\"\n",
    "Control Group (Maximum bidding) Funnel\n",
    "Impression: {df.Impression_control.sum()}\n",
    "Click: {df.Click_control.sum()}\n",
    "Purchase: {df.Purchase_control.sum()}\n",
    "\n",
    "Test Group (Average bidding) Funnel\n",
    "Impression: {df.Impression_test.sum()}\n",
    "Click: {df.Click_test.sum()}\n",
    "Purchase: {df.Purchase_test.sum()}\n",
    "\"\"\")"
   ]
  },
  {
   "cell_type": "markdown",
   "id": "b9a8c7ef-2ed8-44c7-8b4f-6865d5de0823",
   "metadata": {},
   "source": [
    "<hr>\n",
    "\n",
    "### Purchase Column's Analysis"
   ]
  },
  {
   "cell_type": "code",
   "execution_count": 83,
   "id": "14b71937-8004-4f33-a4d8-06c04b33ac56",
   "metadata": {},
   "outputs": [
    {
     "data": {
      "image/png": "[encoded data removed]",
      "text/plain": [
       "<Figure size 600x400 with 1 Axes>"
      ]
     },
     "metadata": {},
     "output_type": "display_data"
    }
   ],
   "source": [
    "plt.figure(figsize=(6,4))\n",
    "sns.kdeplot(df[\"Purchase_control\"])\n",
    "sns.kdeplot(df[\"Purchase_test\"])\n",
    "plt.legend(labels = [\"Control Group\",\"Test Group\"])\n",
    "plt.title(\"Purchase Column\")\n",
    "plt.axis(\"off\")\n",
    "plt.show()"
   ]
  },
  {
   "cell_type": "code",
   "execution_count": 54,
   "id": "51087cbc-b154-4fcc-acc8-88854e6a8d28",
   "metadata": {},
   "outputs": [
    {
     "data": {
      "text/plain": [
       "(550.8940587702316, 582.1060966484677)"
      ]
     },
     "execution_count": 54,
     "metadata": {},
     "output_type": "execute_result"
    }
   ],
   "source": [
    "df[\"Purchase_control\"].mean(),df[\"Purchase_test\"].mean()"
   ]
  },
  {
   "cell_type": "markdown",
   "id": "1b254c92-3ce6-4191-a8a8-2044cc3d2fdb",
   "metadata": {},
   "source": [
    "> There appears to be a difference in the means of the control and test groups' purchases, but this difference may be coincidental. This observation is not a statistically significant results.\n",
    "\n",
    "<br>\n",
    "\n",
    "#### How can we find statistically significant results?\n",
    "\n",
    "**Indepented Two Sample T-Test**\n",
    "\n",
    "The independent two-sample t-test is a statistical test that compares the means of two independent groups to determine if there is a significant difference between them. \"Independent\" means that the samples are not related to or dependent on each other.\n",
    "\n",
    "**Requirements**\n",
    "- Independent samples: The two groups being compared should be independent of each other, meaning that the observations in one group should not be related to or dependent on the observations in the other group.\n",
    "\n",
    "- Normality: The data in each group should be normally distributed. This can be checked by examining the distribution of the data or by conducting a normality test.\n",
    "\n",
    "- Equal variances: The variances of the two groups should be approximately equal. This can be checked by conducting a test for equal variances, such as Levene's test."
   ]
  },
  {
   "cell_type": "markdown",
   "id": "7f22897e-31dd-4381-b865-085c0e814a81",
   "metadata": {},
   "source": [
    "The Shapiro-Wilks Test for Normality<hr>\n",
    "\n",
    "\n",
    "## A/B Test\n",
    "\n",
    "### Hypotheses\n",
    "\n",
    "The null hypothesis (H0) and alternative hypothesis (H1) of the Independent Samples t Test can be expressed in two different but equivalent ways:\n",
    "\n",
    "- H0:  𝜇1 = 𝜇2 (There is no statistically significant difference between the purchasing amounts of the two groups)\n",
    "\n",
    "- H1:  𝜇1 ≠ 𝜇2 (There is statistically significant difference between the purchasing amounts of the two groups)\n",
    "\n",
    "<br>\n",
    "\n",
    "\n",
    "#### The Shapiro-Wilks Test for Normality\n",
    "\n",
    "The Shapiro-Wilks test is a statistical test used to determine whether a set of data is normally distributed. It is a common test used to check the normality assumption for many statistical tests, including the t-test and ANOVA.\n",
    "\n",
    "- H0: There is no statistically significant difference between sample distribution and theoretical normal distribution\n",
    "\n",
    "- H1: There is statistically significant difference between sample distribution and theoretical normal distribution\n",
    "\n",
    "The test rejects the hypothesis of normality when the p-value is less than or equal to 0.05. Failing the normality test allows you to state with 95% confidence the data does not fit the normal distribution.\n",
    "\n",
    "p-value < 0.05 (H0 rejected)\n",
    "\n",
    "p-value > 0.05 (H0 not rejected)"
   ]
  },
  {
   "cell_type": "code",
   "execution_count": 60,
   "id": "2ca1115b-db5d-4d5c-ab19-27beceb5d1e4",
   "metadata": {},
   "outputs": [],
   "source": [
    "controlGroup_test_stat, controlGroup_shapiro_pvalue = shapiro(df[\"Purchase_control\"])\n",
    "testGroup_test_stat, testGroup_shapiro_pvalue = shapiro(df[\"Purchase_test\"])"
   ]
  },
  {
   "cell_type": "code",
   "execution_count": 64,
   "id": "4f2338a7-1f6e-4f2f-a7dc-26df46db962f",
   "metadata": {},
   "outputs": [
    {
     "name": "stdout",
     "output_type": "stream",
     "text": [
      "Control Group Test statistic = 0.9773, p-Value = 0.5891 \n",
      "Test Group Test statistic = 0.9589, p-Value = 0.1541\n"
     ]
    }
   ],
   "source": [
    "print('Control Group Test statistic = %.4f, p-Value = %.4f \\nTest Group Test statistic = %.4f, p-Value = %.4f' % (controlGroup_test_stat, controlGroup_shapiro_pvalue,testGroup_test_stat,testGroup_shapiro_pvalue))"
   ]
  },
  {
   "cell_type": "markdown",
   "id": "4a997895-5408-486a-bffb-2b22df03c79e",
   "metadata": {},
   "source": [
    "> H0 hypothesis could not be rejected. Statistically, it could not be rejected that the normal distribution assumption of the data set in which the Maximum Bidding (Control Group) was measured was met."
   ]
  },
  {
   "cell_type": "markdown",
   "id": "9092d9ef-2bd6-46a3-aff4-617c62f93d0e",
   "metadata": {},
   "source": [
    "<br>\n",
    "\n",
    "\n",
    "#### Levene’s Test for Homogeneity of variances\n",
    "\n",
    "Levene's test works by comparing the absolute deviations of each observation from the group mean. The test statistic is calculated as the ratio of the mean square deviation between groups to the mean square deviation within groups. If the test statistic is greater than a critical value, the null hypothesis of equal variances is rejected, and it is concluded that the variances are not equal.\n",
    "\n",
    "\n",
    "\n",
    "- H0 : Variances are homogeneous.\n",
    "\n",
    "- H1 : Variances are not homogeneous.\n",
    "\n",
    "p-value < 0.05 (H0 rejected)\n",
    "\n",
    "p-value > 0.05 (H0 not rejected)"
   ]
  },
  {
   "cell_type": "code",
   "execution_count": 71,
   "id": "060c5f98-f943-40cc-9fee-9dac9322b9a1",
   "metadata": {},
   "outputs": [],
   "source": [
    "levene_test_statistic,levene_pvalue = levene(df[\"Purchase_control\"],\n",
    "                               df[\"Purchase_test\"])"
   ]
  },
  {
   "cell_type": "code",
   "execution_count": 72,
   "id": "1790cb28-b0f8-4741-a720-5c8ec297d8ae",
   "metadata": {},
   "outputs": [
    {
     "name": "stdout",
     "output_type": "stream",
     "text": [
      "Levene Test statistic = 2.6393, p-Value = 0.1083\n"
     ]
    }
   ],
   "source": [
    "print('Levene Test statistic = %.4f, p-Value = %.4f' % (test_statistic, pvalue))"
   ]
  },
  {
   "cell_type": "markdown",
   "id": "d2bd58d1-10ce-4d73-ba83-bd72d1c59c9a",
   "metadata": {},
   "source": [
    ">  The variances were not statistically rejected as homogeneous.\n",
    "\n",
    "> The assumptions of normality distribution and variance homogeneity were tested.Two assumptions are provided, we can now test for our main hypothesis."
   ]
  },
  {
   "cell_type": "markdown",
   "id": "dfe8a450-7861-46a5-b149-90c800c68a5e",
   "metadata": {},
   "source": [
    "#### Parametric Independent Two-Sample T Test (ttest_ind)\n",
    "\n",
    "Since the normality of the distribution of the data set in which Average Bidding (Test Group) was measured was not rejected, the Parametric Independent Two-Sample T Test was applied for the Hypothesis Test.\n",
    "\n",
    "Let's remember hypothesis\n",
    "\n",
    "H0 : 𝜇1 = 𝜇2 (There is no statistically significant difference between the purchasing amounts of the two groups)\n",
    "\n",
    "H1 : 𝜇1 ≠ 𝜇2 (There is statistically significant difference between sample distribution and theoretical normal distribution)"
   ]
  },
  {
   "cell_type": "code",
   "execution_count": 74,
   "id": "944bd2df-af82-43a7-b0f2-9f96b9663c17",
   "metadata": {},
   "outputs": [
    {
     "data": {
      "text/plain": [
       "Ttest_indResult(statistic=-0.9415584300312964, pvalue=0.34932579202108416)"
      ]
     },
     "execution_count": 74,
     "metadata": {},
     "output_type": "execute_result"
    }
   ],
   "source": [
    "ttest_ind(df[\"Purchase_control\"], df[\"Purchase_test\"], equal_var=True)"
   ]
  },
  {
   "cell_type": "markdown",
   "id": "af881177-8295-4b27-9ba2-33c8a8cf7e88",
   "metadata": {},
   "source": [
    "> p-value greater then 0.05 so H0 is not rejected. There is no statistically significant difference between the Control group that was served “maximum bidding” campaign and Test group that was served “average bidding” campaign based on **Purchase**"
   ]
  }
 ],
 "metadata": {
  "kernelspec": {
   "display_name": "Python 3 (ipykernel)",
   "language": "python",
   "name": "python3"
  },
  "language_info": {
   "codemirror_mode": {
    "name": "ipython",
    "version": 3
   },
   "file_extension": ".py",
   "mimetype": "text/x-python",
   "name": "python",
   "nbconvert_exporter": "python",
   "pygments_lexer": "ipython3",
   "version": "3.10.7"
  }
 },
 "nbformat": 4,
 "nbformat_minor": 5
}
