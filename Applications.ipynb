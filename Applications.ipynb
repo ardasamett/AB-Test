{
 "cells": [
  {
   "cell_type": "markdown",
   "id": "dc89106a-8860-4ac2-8c56-c362378245d6",
   "metadata": {},
   "source": [
    "<div align=\"center\">\n",
    "\n",
    "# Some A/B Testing methods in Python\n",
    "</div>\n",
    "<hr>"
   ]
  },
  {
   "cell_type": "markdown",
   "id": "fff312f0-3164-4520-a127-9581261c340a",
   "metadata": {},
   "source": [
    "<br>\n",
    "\n",
    "**Z-Test:** The z-test is similar to the t-test but assumes that the sample size is large enough to use the normal distribution. The z-test can be used to compare the means of two samples and determine if there is a statistically significant difference between them."
   ]
  },
  {
   "cell_type": "code",
   "execution_count": 1,
   "id": "e8fa95f4-6701-4055-abed-81f0390ee7fc",
   "metadata": {},
   "outputs": [
    {
     "name": "stdout",
     "output_type": "stream",
     "text": [
      "z-statistic:  0.8660254037844384\n",
      "p-value:  0.38647623077123283\n"
     ]
    }
   ],
   "source": [
    "from statsmodels.stats.weightstats import ztest\n",
    "\n",
    "sample_a = [1, 0, 1, 1, 0, 1, 0, 1, 0, 1]\n",
    "sample_b = [0, 1, 0, 0, 1, 0, 1, 0, 1, 0]\n",
    "\n",
    "z_stat, p_val = ztest(sample_a, sample_b)\n",
    "\n",
    "print(\"z-statistic: \", z_stat)\n",
    "print(\"p-value: \", p_val)"
   ]
  },
  {
   "cell_type": "markdown",
   "id": "bea10c52-429e-451d-94d8-d3732c9152bc",
   "metadata": {},
   "source": [
    "<br>\n",
    "\n",
    "**Chi-Square Test:** The chi-square test is used to determine if there is a significant association between two categorical variables. In A/B testing, the chi-square test can be used to compare the proportion of users who converted in version A versus version B."
   ]
  },
  {
   "cell_type": "code",
   "execution_count": 3,
   "id": "b67461fd-2c1a-444e-9cf2-1386e8d7f5fd",
   "metadata": {},
   "outputs": [
    {
     "name": "stdout",
     "output_type": "stream",
     "text": [
      "chi-square statistic:  5.013888888888889\n",
      "p-value:  0.025144761173357424\n"
     ]
    }
   ],
   "source": [
    "from scipy.stats import chi2_contingency\n",
    "import numpy as np\n",
    "\n",
    "obs = np.array([[100, 50], [80, 70]])\n",
    "\n",
    "chi_stat, p_val, dof, expected = chi2_contingency(obs)\n",
    "\n",
    "print(\"chi-square statistic: \", chi_stat)\n",
    "print(\"p-value: \", p_val)"
   ]
  },
  {
   "cell_type": "markdown",
   "id": "e0e3d3c9-af5a-438b-9db2-74683d5c187d",
   "metadata": {},
   "source": [
    "<hr>\n",
    "\n",
    "<br>\n",
    "\n",
    "### Some Applications for more than 2 groups with ANOVA;\n",
    "\n",
    "Dataset: seaborn tips dataset\n",
    "\n",
    "* Question: Is there any statistically significant difference between day(s) and total bill?\n",
    "\n",
    "* H0: Fri = Sat = Sun = Thur (There is no statistically significant difference between the total bills of the four groups(day))\n",
    "\n",
    "* H1: (There is statistically significant difference between the total bills of the four groups(day))\n",
    "\n",
    "> NOTE: You can find more detail about hypothesis in **Bidding-AB-Test.ipynb** file"
   ]
  },
  {
   "cell_type": "code",
   "execution_count": 119,
   "id": "43c0150c-d498-46af-b85f-fe3eaa529a63",
   "metadata": {},
   "outputs": [],
   "source": [
    "df = pd.read_csv(\"tips.csv\")"
   ]
  },
  {
   "cell_type": "code",
   "execution_count": 120,
   "id": "c6b9cd12-82a0-48e6-8904-9c147ff8ca57",
   "metadata": {},
   "outputs": [
    {
     "data": {
      "text/html": [
       "<div>\n",
       "<style scoped>\n",
       "    .dataframe tbody tr th:only-of-type {\n",
       "        vertical-align: middle;\n",
       "    }\n",
       "\n",
       "    .dataframe tbody tr th {\n",
       "        vertical-align: top;\n",
       "    }\n",
       "\n",
       "    .dataframe thead th {\n",
       "        text-align: right;\n",
       "    }\n",
       "</style>\n",
       "<table border=\"1\" class=\"dataframe\">\n",
       "  <thead>\n",
       "    <tr style=\"text-align: right;\">\n",
       "      <th></th>\n",
       "      <th>total_bill</th>\n",
       "      <th>tip</th>\n",
       "      <th>sex</th>\n",
       "      <th>smoker</th>\n",
       "      <th>day</th>\n",
       "      <th>time</th>\n",
       "      <th>size</th>\n",
       "    </tr>\n",
       "  </thead>\n",
       "  <tbody>\n",
       "    <tr>\n",
       "      <th>0</th>\n",
       "      <td>16.99</td>\n",
       "      <td>1.01</td>\n",
       "      <td>Female</td>\n",
       "      <td>No</td>\n",
       "      <td>Sun</td>\n",
       "      <td>Dinner</td>\n",
       "      <td>2</td>\n",
       "    </tr>\n",
       "    <tr>\n",
       "      <th>1</th>\n",
       "      <td>10.34</td>\n",
       "      <td>1.66</td>\n",
       "      <td>Male</td>\n",
       "      <td>No</td>\n",
       "      <td>Sun</td>\n",
       "      <td>Dinner</td>\n",
       "      <td>3</td>\n",
       "    </tr>\n",
       "    <tr>\n",
       "      <th>2</th>\n",
       "      <td>21.01</td>\n",
       "      <td>3.50</td>\n",
       "      <td>Male</td>\n",
       "      <td>No</td>\n",
       "      <td>Sun</td>\n",
       "      <td>Dinner</td>\n",
       "      <td>3</td>\n",
       "    </tr>\n",
       "    <tr>\n",
       "      <th>3</th>\n",
       "      <td>23.68</td>\n",
       "      <td>3.31</td>\n",
       "      <td>Male</td>\n",
       "      <td>No</td>\n",
       "      <td>Sun</td>\n",
       "      <td>Dinner</td>\n",
       "      <td>2</td>\n",
       "    </tr>\n",
       "    <tr>\n",
       "      <th>4</th>\n",
       "      <td>24.59</td>\n",
       "      <td>3.61</td>\n",
       "      <td>Female</td>\n",
       "      <td>No</td>\n",
       "      <td>Sun</td>\n",
       "      <td>Dinner</td>\n",
       "      <td>4</td>\n",
       "    </tr>\n",
       "  </tbody>\n",
       "</table>\n",
       "</div>"
      ],
      "text/plain": [
       "   total_bill   tip     sex smoker  day    time  size\n",
       "0       16.99  1.01  Female     No  Sun  Dinner     2\n",
       "1       10.34  1.66    Male     No  Sun  Dinner     3\n",
       "2       21.01  3.50    Male     No  Sun  Dinner     3\n",
       "3       23.68  3.31    Male     No  Sun  Dinner     2\n",
       "4       24.59  3.61  Female     No  Sun  Dinner     4"
      ]
     },
     "execution_count": 120,
     "metadata": {},
     "output_type": "execute_result"
    }
   ],
   "source": [
    "df.head()"
   ]
  },
  {
   "cell_type": "code",
   "execution_count": 121,
   "id": "b76357e5-75f7-4df6-8f32-a4e550e612b2",
   "metadata": {},
   "outputs": [
    {
     "data": {
      "text/plain": [
       "day\n",
       "Fri     17.151579\n",
       "Sat     20.441379\n",
       "Sun     21.410000\n",
       "Thur    17.682742\n",
       "Name: total_bill, dtype: float64"
      ]
     },
     "execution_count": 121,
     "metadata": {},
     "output_type": "execute_result"
    }
   ],
   "source": [
    "df.groupby(\"day\")[\"total_bill\"].mean()"
   ]
  },
  {
   "cell_type": "code",
   "execution_count": 123,
   "id": "acc7f52f-a18d-4f4f-9cf3-6afecdf52d04",
   "metadata": {},
   "outputs": [
    {
     "name": "stdout",
     "output_type": "stream",
     "text": [
      "Sun p-value: 0.0036\n",
      "Sat p-value: 0.0000\n",
      "Thur p-value: 0.0000\n",
      "Fri p-value: 0.0409\n"
     ]
    }
   ],
   "source": [
    "# The Shapiro-Wilks Test for Normality\n",
    "for group in list(df[\"day\"].unique()):\n",
    "    pvalue = shapiro(df.loc[df[\"day\"] == group, \"total_bill\"])[1]\n",
    "    print(group, 'p-value: %.4f' % pvalue)"
   ]
  },
  {
   "cell_type": "markdown",
   "id": "224648a3-f24f-4d61-a1bc-8444d6a448cd",
   "metadata": {},
   "source": [
    "> h0 reject because of p < 0.05"
   ]
  },
  {
   "cell_type": "code",
   "execution_count": 124,
   "id": "86bcac1a-78fe-44c5-b3fd-737769177d86",
   "metadata": {},
   "outputs": [
    {
     "name": "stdout",
     "output_type": "stream",
     "text": [
      "Test Stat = 0.6654, p-value = 0.5741\n"
     ]
    }
   ],
   "source": [
    "# Levene’s Test for Homogeneity of variances\n",
    "test_stat, pvalue = levene(df.loc[df[\"day\"] == \"Sun\", \"total_bill\"],\n",
    "                           df.loc[df[\"day\"] == \"Sat\", \"total_bill\"],\n",
    "                           df.loc[df[\"day\"] == \"Thur\", \"total_bill\"],\n",
    "                           df.loc[df[\"day\"] == \"Fri\", \"total_bill\"])\n",
    "print('Test Stat = %.4f, p-value = %.4f' % (test_stat, pvalue))"
   ]
  },
  {
   "cell_type": "markdown",
   "id": "a0962b29-c4d4-49b4-be13-75adea17cec4",
   "metadata": {},
   "source": [
    "> h0 can not be rejected because of p > 0.05"
   ]
  },
  {
   "cell_type": "code",
   "execution_count": 125,
   "id": "1e67dd9f-d45b-478e-b8b5-4c8a691ab573",
   "metadata": {},
   "outputs": [
    {
     "data": {
      "text/plain": [
       "KruskalResult(statistic=10.403076391437086, pvalue=0.01543300820104127)"
      ]
     },
     "execution_count": 125,
     "metadata": {},
     "output_type": "execute_result"
    }
   ],
   "source": [
    "kruskal(df.loc[df[\"day\"] == \"Thur\", \"total_bill\"],\n",
    "        df.loc[df[\"day\"] == \"Fri\", \"total_bill\"],\n",
    "        df.loc[df[\"day\"] == \"Sat\", \"total_bill\"],\n",
    "        df.loc[df[\"day\"] == \"Sun\", \"total_bill\"])"
   ]
  },
  {
   "cell_type": "markdown",
   "id": "e1eee897-3273-43be-92aa-b1a9decca0b2",
   "metadata": {},
   "source": [
    "> h0 is rejected because of p < 0.05. There is statistically significant difference between the total bills of the four groups(day)"
   ]
  },
  {
   "cell_type": "markdown",
   "id": "40dca5c5-fb70-4cf1-83cc-40f4c432d25c",
   "metadata": {},
   "source": [
    "#### There is statistically significant difference. However, can we find that which two groups(days) make differences?"
   ]
  },
  {
   "cell_type": "code",
   "execution_count": 128,
   "id": "b4aa0ee6-c55b-4ae7-b9ad-dc6f0b2dbe21",
   "metadata": {},
   "outputs": [
    {
     "name": "stdout",
     "output_type": "stream",
     "text": [
      "Multiple Comparison of Means - Tukey HSD, FWER=0.05 \n",
      "====================================================\n",
      "group1 group2 meandiff p-adj   lower   upper  reject\n",
      "----------------------------------------------------\n",
      "   Fri    Sat   3.2898 0.4541 -2.4799  9.0595  False\n",
      "   Fri    Sun   4.2584 0.2371 -1.5856 10.1025  False\n",
      "   Fri   Thur   0.5312 0.9957 -5.4434  6.5057  False\n",
      "   Sat    Sun   0.9686 0.8968 -2.6088   4.546  False\n",
      "   Sat   Thur  -2.7586 0.2374 -6.5455  1.0282  False\n",
      "   Sun   Thur  -3.7273 0.0668 -7.6264  0.1719  False\n",
      "----------------------------------------------------\n"
     ]
    }
   ],
   "source": [
    "from statsmodels.stats.multicomp import MultiComparison\n",
    "comparison = MultiComparison(df['total_bill'], df['day'])\n",
    "tukey = comparison.tukeyhsd(0.05)\n",
    "print(tukey.summary())"
   ]
  },
  {
   "cell_type": "markdown",
   "id": "7f643333-de3b-48e9-af7d-48f867d57576",
   "metadata": {},
   "source": [
    "> All of them are rejected. That means, there is no statistically significant difference between **these 2 groups**"
   ]
  }
 ],
 "metadata": {
  "kernelspec": {
   "display_name": "Python 3 (ipykernel)",
   "language": "python",
   "name": "python3"
  },
  "language_info": {
   "codemirror_mode": {
    "name": "ipython",
    "version": 3
   },
   "file_extension": ".py",
   "mimetype": "text/x-python",
   "name": "python",
   "nbconvert_exporter": "python",
   "pygments_lexer": "ipython3",
   "version": "3.10.7"
  }
 },
 "nbformat": 4,
 "nbformat_minor": 5
}
